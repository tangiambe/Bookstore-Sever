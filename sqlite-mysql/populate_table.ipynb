{
 "cells": [
  {
   "attachments": {},
   "cell_type": "markdown",
   "metadata": {},
   "source": [
    "#### Imports"
   ]
  },
  {
   "cell_type": "code",
   "execution_count": 1,
   "metadata": {},
   "outputs": [],
   "source": [
    "import pandas as pd\n",
    "import sqlite3 as sq"
   ]
  },
  {
   "attachments": {},
   "cell_type": "markdown",
   "metadata": {},
   "source": [
    "#### Import from Old SQLite Store"
   ]
  },
  {
   "cell_type": "code",
   "execution_count": 3,
   "metadata": {},
   "outputs": [],
   "source": [
    "conn = sq.connect(\"oldstore.db\")"
   ]
  },
  {
   "cell_type": "code",
   "execution_count": 3,
   "metadata": {},
   "outputs": [],
   "source": [
    "book = pd.read_sql_query(f\"SELECT * from Book\", conn)"
   ]
  },
  {
   "cell_type": "code",
   "execution_count": 4,
   "metadata": {},
   "outputs": [
    {
     "data": {
      "text/html": [
       "<div>\n",
       "<style scoped>\n",
       "    .dataframe tbody tr th:only-of-type {\n",
       "        vertical-align: middle;\n",
       "    }\n",
       "\n",
       "    .dataframe tbody tr th {\n",
       "        vertical-align: top;\n",
       "    }\n",
       "\n",
       "    .dataframe thead th {\n",
       "        text-align: right;\n",
       "    }\n",
       "</style>\n",
       "<table border=\"1\" class=\"dataframe\">\n",
       "  <thead>\n",
       "    <tr style=\"text-align: right;\">\n",
       "      <th></th>\n",
       "      <th>id</th>\n",
       "      <th>pub_id</th>\n",
       "      <th>title</th>\n",
       "      <th>price</th>\n",
       "      <th>category</th>\n",
       "      <th>quantity</th>\n",
       "      <th>b_format</th>\n",
       "      <th>prod_year</th>\n",
       "      <th>filesize</th>\n",
       "    </tr>\n",
       "  </thead>\n",
       "  <tbody>\n",
       "    <tr>\n",
       "      <th>0</th>\n",
       "      <td>0399149392</td>\n",
       "      <td>21</td>\n",
       "      <td>Chesapeake Blue</td>\n",
       "      <td>25.95</td>\n",
       "      <td>Literature &amp; Fiction</td>\n",
       "      <td>41</td>\n",
       "      <td>epub</td>\n",
       "      <td>2002</td>\n",
       "      <td>7676</td>\n",
       "    </tr>\n",
       "    <tr>\n",
       "      <th>1</th>\n",
       "      <td>156158648X</td>\n",
       "      <td>61</td>\n",
       "      <td>The New City Home: Smart Solutions for Metro L...</td>\n",
       "      <td>24.95</td>\n",
       "      <td>Home Design</td>\n",
       "      <td>30</td>\n",
       "      <td>leaflet</td>\n",
       "      <td>2003</td>\n",
       "      <td>1042</td>\n",
       "    </tr>\n",
       "    <tr>\n",
       "      <th>2</th>\n",
       "      <td>0156006219</td>\n",
       "      <td>10</td>\n",
       "      <td>The Magician's Assistant</td>\n",
       "      <td>13.00</td>\n",
       "      <td>Romance</td>\n",
       "      <td>33</td>\n",
       "      <td>epub</td>\n",
       "      <td>1998</td>\n",
       "      <td>5220</td>\n",
       "    </tr>\n",
       "    <tr>\n",
       "      <th>3</th>\n",
       "      <td>0440237556</td>\n",
       "      <td>41</td>\n",
       "      <td>The Dark Highlander</td>\n",
       "      <td>6.99</td>\n",
       "      <td>Romance</td>\n",
       "      <td>69</td>\n",
       "      <td>pdf</td>\n",
       "      <td>2002</td>\n",
       "      <td>55</td>\n",
       "    </tr>\n",
       "    <tr>\n",
       "      <th>4</th>\n",
       "      <td>038572179X</td>\n",
       "      <td>54</td>\n",
       "      <td>Atonement</td>\n",
       "      <td>14.00</td>\n",
       "      <td>Literature &amp; Fiction</td>\n",
       "      <td>77</td>\n",
       "      <td>leaflet</td>\n",
       "      <td>2003</td>\n",
       "      <td>5817</td>\n",
       "    </tr>\n",
       "  </tbody>\n",
       "</table>\n",
       "</div>"
      ],
      "text/plain": [
       "           id  pub_id                                              title   \n",
       "0  0399149392      21                                    Chesapeake Blue  \\\n",
       "1  156158648X      61  The New City Home: Smart Solutions for Metro L...   \n",
       "2  0156006219      10                           The Magician's Assistant   \n",
       "3  0440237556      41                                The Dark Highlander   \n",
       "4  038572179X      54                                          Atonement   \n",
       "\n",
       "   price              category  quantity b_format  prod_year  filesize  \n",
       "0  25.95  Literature & Fiction        41     epub       2002      7676  \n",
       "1  24.95           Home Design        30  leaflet       2003      1042  \n",
       "2  13.00               Romance        33     epub       1998      5220  \n",
       "3   6.99               Romance        69      pdf       2002        55  \n",
       "4  14.00  Literature & Fiction        77  leaflet       2003      5817  "
      ]
     },
     "execution_count": 4,
     "metadata": {},
     "output_type": "execute_result"
    }
   ],
   "source": [
    "book.head()"
   ]
  },
  {
   "attachments": {},
   "cell_type": "markdown",
   "metadata": {},
   "source": [
    "#### Author Table ✅"
   ]
  },
  {
   "cell_type": "code",
   "execution_count": 5,
   "metadata": {},
   "outputs": [],
   "source": [
    "author = pd.read_sql_query(f\"SELECT * from Source\", conn)"
   ]
  },
  {
   "cell_type": "code",
   "execution_count": 6,
   "metadata": {},
   "outputs": [],
   "source": [
    "# Cast Table Column to String\n",
    "author['s_name'] = author['s_name'].astype('string')\n",
    "\n",
    "# Rename Columns\n",
    "author.rename(columns={'s_name': 'name'}, inplace=True)"
   ]
  },
  {
   "cell_type": "code",
   "execution_count": 7,
   "metadata": {},
   "outputs": [
    {
     "data": {
      "text/html": [
       "<div>\n",
       "<style scoped>\n",
       "    .dataframe tbody tr th:only-of-type {\n",
       "        vertical-align: middle;\n",
       "    }\n",
       "\n",
       "    .dataframe tbody tr th {\n",
       "        vertical-align: top;\n",
       "    }\n",
       "\n",
       "    .dataframe thead th {\n",
       "        text-align: right;\n",
       "    }\n",
       "</style>\n",
       "<table border=\"1\" class=\"dataframe\">\n",
       "  <thead>\n",
       "    <tr style=\"text-align: right;\">\n",
       "      <th></th>\n",
       "      <th>id</th>\n",
       "      <th>name</th>\n",
       "    </tr>\n",
       "  </thead>\n",
       "  <tbody>\n",
       "    <tr>\n",
       "      <th>0</th>\n",
       "      <td>1</td>\n",
       "      <td>Ian H. Witten</td>\n",
       "    </tr>\n",
       "    <tr>\n",
       "      <th>1</th>\n",
       "      <td>2</td>\n",
       "      <td>Ken Henderson</td>\n",
       "    </tr>\n",
       "    <tr>\n",
       "      <th>2</th>\n",
       "      <td>3</td>\n",
       "      <td>Sue Monk Kidd</td>\n",
       "    </tr>\n",
       "    <tr>\n",
       "      <th>3</th>\n",
       "      <td>4</td>\n",
       "      <td>Chuck Palahniuk</td>\n",
       "    </tr>\n",
       "    <tr>\n",
       "      <th>4</th>\n",
       "      <td>5</td>\n",
       "      <td>Larry Bossidy</td>\n",
       "    </tr>\n",
       "    <tr>\n",
       "      <th>5</th>\n",
       "      <td>6</td>\n",
       "      <td>Ralph Kimball</td>\n",
       "    </tr>\n",
       "    <tr>\n",
       "      <th>6</th>\n",
       "      <td>7</td>\n",
       "      <td>Scott Kelby</td>\n",
       "    </tr>\n",
       "    <tr>\n",
       "      <th>7</th>\n",
       "      <td>8</td>\n",
       "      <td>Mark Z. Danielewski</td>\n",
       "    </tr>\n",
       "  </tbody>\n",
       "</table>\n",
       "</div>"
      ],
      "text/plain": [
       "   id                 name\n",
       "0   1        Ian H. Witten\n",
       "1   2        Ken Henderson\n",
       "2   3        Sue Monk Kidd\n",
       "3   4      Chuck Palahniuk\n",
       "4   5        Larry Bossidy\n",
       "5   6        Ralph Kimball\n",
       "6   7          Scott Kelby\n",
       "7   8  Mark Z. Danielewski"
      ]
     },
     "execution_count": 7,
     "metadata": {},
     "output_type": "execute_result"
    }
   ],
   "source": [
    "author.head(8)"
   ]
  },
  {
   "attachments": {},
   "cell_type": "markdown",
   "metadata": {},
   "source": [
    "#### Book Author Table ✅"
   ]
  },
  {
   "cell_type": "code",
   "execution_count": 8,
   "metadata": {},
   "outputs": [],
   "source": [
    "bookauthor = pd.read_sql_query(f\"SELECT * from SourceProduct\", sq.connect(\"oldstore.db\"))"
   ]
  },
  {
   "cell_type": "code",
   "execution_count": 9,
   "metadata": {},
   "outputs": [],
   "source": [
    "# Rename Columns\n",
    "bookauthor.rename(columns={'s_id': 'author_id', 'prod_id': 'book_id'}, inplace=True)\n",
    "\n",
    "#Clean Book_ID Column\n",
    "bookauthor['book_id'] = bookauthor['book_id'].str.strip('X')\n",
    "bookauthor['book_id'] = bookauthor['book_id'].str.replace(('-'),\"\")"
   ]
  },
  {
   "cell_type": "code",
   "execution_count": 10,
   "metadata": {},
   "outputs": [
    {
     "data": {
      "text/html": [
       "<div>\n",
       "<style scoped>\n",
       "    .dataframe tbody tr th:only-of-type {\n",
       "        vertical-align: middle;\n",
       "    }\n",
       "\n",
       "    .dataframe tbody tr th {\n",
       "        vertical-align: top;\n",
       "    }\n",
       "\n",
       "    .dataframe thead th {\n",
       "        text-align: right;\n",
       "    }\n",
       "</style>\n",
       "<table border=\"1\" class=\"dataframe\">\n",
       "  <thead>\n",
       "    <tr style=\"text-align: right;\">\n",
       "      <th></th>\n",
       "      <th>id</th>\n",
       "      <th>author_id</th>\n",
       "      <th>book_id</th>\n",
       "    </tr>\n",
       "  </thead>\n",
       "  <tbody>\n",
       "    <tr>\n",
       "      <th>0</th>\n",
       "      <td>1</td>\n",
       "      <td>25</td>\n",
       "      <td>0743467523</td>\n",
       "    </tr>\n",
       "    <tr>\n",
       "      <th>1</th>\n",
       "      <td>2</td>\n",
       "      <td>96</td>\n",
       "      <td>0440237556</td>\n",
       "    </tr>\n",
       "    <tr>\n",
       "      <th>2</th>\n",
       "      <td>3</td>\n",
       "      <td>31</td>\n",
       "      <td>0385494246</td>\n",
       "    </tr>\n",
       "    <tr>\n",
       "      <th>3</th>\n",
       "      <td>4</td>\n",
       "      <td>54</td>\n",
       "      <td>156158648</td>\n",
       "    </tr>\n",
       "    <tr>\n",
       "      <th>4</th>\n",
       "      <td>5</td>\n",
       "      <td>22</td>\n",
       "      <td>0061020656</td>\n",
       "    </tr>\n",
       "    <tr>\n",
       "      <th>5</th>\n",
       "      <td>6</td>\n",
       "      <td>43</td>\n",
       "      <td>0671004107</td>\n",
       "    </tr>\n",
       "    <tr>\n",
       "      <th>6</th>\n",
       "      <td>7</td>\n",
       "      <td>25</td>\n",
       "      <td>0743457358</td>\n",
       "    </tr>\n",
       "    <tr>\n",
       "      <th>7</th>\n",
       "      <td>8</td>\n",
       "      <td>22</td>\n",
       "      <td>0061092177</td>\n",
       "    </tr>\n",
       "  </tbody>\n",
       "</table>\n",
       "</div>"
      ],
      "text/plain": [
       "   id  author_id     book_id\n",
       "0   1         25  0743467523\n",
       "1   2         96  0440237556\n",
       "2   3         31  0385494246\n",
       "3   4         54   156158648\n",
       "4   5         22  0061020656\n",
       "5   6         43  0671004107\n",
       "6   7         25  0743457358\n",
       "7   8         22  0061092177"
      ]
     },
     "execution_count": 10,
     "metadata": {},
     "output_type": "execute_result"
    }
   ],
   "source": [
    "bookauthor.head(8)"
   ]
  },
  {
   "attachments": {},
   "cell_type": "markdown",
   "metadata": {},
   "source": [
    "#### Category Table ✅"
   ]
  },
  {
   "cell_type": "code",
   "execution_count": 11,
   "metadata": {},
   "outputs": [],
   "source": [
    "category = pd.DataFrame({'category': book[\"category\"].unique()})\n",
    "\n",
    "# Fix ID table with offset index \n",
    "category.index = category.index + 1\n",
    "category['id'] = category.index\n",
    "\n",
    "# Fix Category Column Types\n",
    "category['category'] = category['category'].astype('string')\n",
    "\n",
    "# Reorder, Rename, and Reset Index \n",
    "category = category[['id', 'category']]\n",
    "category.rename(columns={'category': 'name'},inplace=True)\n",
    "category.reset_index(inplace=True, drop=True)"
   ]
  },
  {
   "cell_type": "code",
   "execution_count": 12,
   "metadata": {},
   "outputs": [
    {
     "data": {
      "text/html": [
       "<div>\n",
       "<style scoped>\n",
       "    .dataframe tbody tr th:only-of-type {\n",
       "        vertical-align: middle;\n",
       "    }\n",
       "\n",
       "    .dataframe tbody tr th {\n",
       "        vertical-align: top;\n",
       "    }\n",
       "\n",
       "    .dataframe thead th {\n",
       "        text-align: right;\n",
       "    }\n",
       "</style>\n",
       "<table border=\"1\" class=\"dataframe\">\n",
       "  <thead>\n",
       "    <tr style=\"text-align: right;\">\n",
       "      <th></th>\n",
       "      <th>id</th>\n",
       "      <th>name</th>\n",
       "    </tr>\n",
       "  </thead>\n",
       "  <tbody>\n",
       "    <tr>\n",
       "      <th>0</th>\n",
       "      <td>1</td>\n",
       "      <td>Literature &amp; Fiction</td>\n",
       "    </tr>\n",
       "    <tr>\n",
       "      <th>1</th>\n",
       "      <td>2</td>\n",
       "      <td>Home Design</td>\n",
       "    </tr>\n",
       "    <tr>\n",
       "      <th>2</th>\n",
       "      <td>3</td>\n",
       "      <td>Romance</td>\n",
       "    </tr>\n",
       "    <tr>\n",
       "      <th>3</th>\n",
       "      <td>4</td>\n",
       "      <td>Science</td>\n",
       "    </tr>\n",
       "    <tr>\n",
       "      <th>4</th>\n",
       "      <td>5</td>\n",
       "      <td>Fantasy</td>\n",
       "    </tr>\n",
       "    <tr>\n",
       "      <th>5</th>\n",
       "      <td>6</td>\n",
       "      <td>Computer</td>\n",
       "    </tr>\n",
       "    <tr>\n",
       "      <th>6</th>\n",
       "      <td>7</td>\n",
       "      <td>Accounting &amp; Finance</td>\n",
       "    </tr>\n",
       "    <tr>\n",
       "      <th>7</th>\n",
       "      <td>8</td>\n",
       "      <td>Horror</td>\n",
       "    </tr>\n",
       "    <tr>\n",
       "      <th>8</th>\n",
       "      <td>9</td>\n",
       "      <td>Reference</td>\n",
       "    </tr>\n",
       "    <tr>\n",
       "      <th>9</th>\n",
       "      <td>10</td>\n",
       "      <td>Fiction</td>\n",
       "    </tr>\n",
       "  </tbody>\n",
       "</table>\n",
       "</div>"
      ],
      "text/plain": [
       "   id                  name\n",
       "0   1  Literature & Fiction\n",
       "1   2           Home Design\n",
       "2   3               Romance\n",
       "3   4               Science\n",
       "4   5               Fantasy\n",
       "5   6              Computer\n",
       "6   7  Accounting & Finance\n",
       "7   8                Horror\n",
       "8   9             Reference\n",
       "9  10               Fiction"
      ]
     },
     "execution_count": 12,
     "metadata": {},
     "output_type": "execute_result"
    }
   ],
   "source": [
    "category"
   ]
  },
  {
   "attachments": {},
   "cell_type": "markdown",
   "metadata": {},
   "source": [
    "#### Start Book Table | Clean \n",
    "Drop Columns to Match our new SQLite DB Columns"
   ]
  },
  {
   "cell_type": "code",
   "execution_count": 13,
   "metadata": {},
   "outputs": [
    {
     "data": {
      "text/plain": [
       "Index(['id', 'pub_id', 'title', 'price', 'category', 'quantity', 'b_format',\n",
       "       'prod_year', 'filesize'],\n",
       "      dtype='object')"
      ]
     },
     "execution_count": 13,
     "metadata": {},
     "output_type": "execute_result"
    }
   ],
   "source": [
    "book.columns"
   ]
  },
  {
   "cell_type": "code",
   "execution_count": 14,
   "metadata": {},
   "outputs": [],
   "source": [
    "book = book.drop(columns=['pub_id', 'filesize'])"
   ]
  },
  {
   "attachments": {},
   "cell_type": "markdown",
   "metadata": {},
   "source": [
    "Clean ID Column"
   ]
  },
  {
   "cell_type": "code",
   "execution_count": 15,
   "metadata": {},
   "outputs": [],
   "source": [
    "book['id'] = book['id'].str.strip('X')\n",
    "book['id'] = book['id'].str.replace(('-'),\"\")"
   ]
  },
  {
   "attachments": {},
   "cell_type": "markdown",
   "metadata": {},
   "source": [
    "Rename and Reorder Columns"
   ]
  },
  {
   "cell_type": "code",
   "execution_count": 16,
   "metadata": {},
   "outputs": [],
   "source": [
    "book.rename(columns={'prod_year': 'year', 'category': 'category_id'}, inplace=True)\n",
    "book['rating'] = 100\n",
    "book = book[['id', 'title', 'price', 'year', 'quantity', 'rating', 'category_id']]"
   ]
  },
  {
   "attachments": {},
   "cell_type": "markdown",
   "metadata": {},
   "source": [
    "#### Book Table | Merge"
   ]
  },
  {
   "cell_type": "code",
   "execution_count": 17,
   "metadata": {},
   "outputs": [],
   "source": [
    "book = pd.merge(book, category, how='left', left_on='category_id', right_on='name')\n",
    "book['category_id'] = book['id_y']\n",
    "\n",
    "book.drop(columns=['id_y', 'name'], inplace=True)\n",
    "book.rename(columns={'id_x': 'id'}, inplace=True)"
   ]
  },
  {
   "attachments": {},
   "cell_type": "markdown",
   "metadata": {},
   "source": [
    "#### Book Table ✅"
   ]
  },
  {
   "cell_type": "code",
   "execution_count": 18,
   "metadata": {},
   "outputs": [
    {
     "data": {
      "text/html": [
       "<div>\n",
       "<style scoped>\n",
       "    .dataframe tbody tr th:only-of-type {\n",
       "        vertical-align: middle;\n",
       "    }\n",
       "\n",
       "    .dataframe tbody tr th {\n",
       "        vertical-align: top;\n",
       "    }\n",
       "\n",
       "    .dataframe thead th {\n",
       "        text-align: right;\n",
       "    }\n",
       "</style>\n",
       "<table border=\"1\" class=\"dataframe\">\n",
       "  <thead>\n",
       "    <tr style=\"text-align: right;\">\n",
       "      <th></th>\n",
       "      <th>id</th>\n",
       "      <th>title</th>\n",
       "      <th>price</th>\n",
       "      <th>year</th>\n",
       "      <th>quantity</th>\n",
       "      <th>rating</th>\n",
       "      <th>category_id</th>\n",
       "    </tr>\n",
       "  </thead>\n",
       "  <tbody>\n",
       "    <tr>\n",
       "      <th>0</th>\n",
       "      <td>0399149392</td>\n",
       "      <td>Chesapeake Blue</td>\n",
       "      <td>25.95</td>\n",
       "      <td>2002</td>\n",
       "      <td>41</td>\n",
       "      <td>100</td>\n",
       "      <td>1</td>\n",
       "    </tr>\n",
       "    <tr>\n",
       "      <th>1</th>\n",
       "      <td>156158648</td>\n",
       "      <td>The New City Home: Smart Solutions for Metro L...</td>\n",
       "      <td>24.95</td>\n",
       "      <td>2003</td>\n",
       "      <td>30</td>\n",
       "      <td>100</td>\n",
       "      <td>2</td>\n",
       "    </tr>\n",
       "    <tr>\n",
       "      <th>2</th>\n",
       "      <td>0156006219</td>\n",
       "      <td>The Magician's Assistant</td>\n",
       "      <td>13.00</td>\n",
       "      <td>1998</td>\n",
       "      <td>33</td>\n",
       "      <td>100</td>\n",
       "      <td>3</td>\n",
       "    </tr>\n",
       "    <tr>\n",
       "      <th>3</th>\n",
       "      <td>0440237556</td>\n",
       "      <td>The Dark Highlander</td>\n",
       "      <td>6.99</td>\n",
       "      <td>2002</td>\n",
       "      <td>69</td>\n",
       "      <td>100</td>\n",
       "      <td>3</td>\n",
       "    </tr>\n",
       "    <tr>\n",
       "      <th>4</th>\n",
       "      <td>038572179</td>\n",
       "      <td>Atonement</td>\n",
       "      <td>14.00</td>\n",
       "      <td>2003</td>\n",
       "      <td>77</td>\n",
       "      <td>100</td>\n",
       "      <td>1</td>\n",
       "    </tr>\n",
       "    <tr>\n",
       "      <th>5</th>\n",
       "      <td>1590520734</td>\n",
       "      <td>The Rescuer: The O'Malley Series</td>\n",
       "      <td>12.99</td>\n",
       "      <td>2003</td>\n",
       "      <td>64</td>\n",
       "      <td>100</td>\n",
       "      <td>3</td>\n",
       "    </tr>\n",
       "    <tr>\n",
       "      <th>6</th>\n",
       "      <td>0373218257</td>\n",
       "      <td>Love By Design</td>\n",
       "      <td>14.95</td>\n",
       "      <td>2003</td>\n",
       "      <td>94</td>\n",
       "      <td>100</td>\n",
       "      <td>1</td>\n",
       "    </tr>\n",
       "    <tr>\n",
       "      <th>7</th>\n",
       "      <td>0060958405</td>\n",
       "      <td>Words and Rules: The Ingredients of Language</td>\n",
       "      <td>15.00</td>\n",
       "      <td>2000</td>\n",
       "      <td>77</td>\n",
       "      <td>100</td>\n",
       "      <td>4</td>\n",
       "    </tr>\n",
       "  </tbody>\n",
       "</table>\n",
       "</div>"
      ],
      "text/plain": [
       "           id                                              title  price  year   \n",
       "0  0399149392                                    Chesapeake Blue  25.95  2002  \\\n",
       "1   156158648  The New City Home: Smart Solutions for Metro L...  24.95  2003   \n",
       "2  0156006219                           The Magician's Assistant  13.00  1998   \n",
       "3  0440237556                                The Dark Highlander   6.99  2002   \n",
       "4   038572179                                          Atonement  14.00  2003   \n",
       "5  1590520734                   The Rescuer: The O'Malley Series  12.99  2003   \n",
       "6  0373218257                                     Love By Design  14.95  2003   \n",
       "7  0060958405       Words and Rules: The Ingredients of Language  15.00  2000   \n",
       "\n",
       "   quantity  rating  category_id  \n",
       "0        41     100            1  \n",
       "1        30     100            2  \n",
       "2        33     100            3  \n",
       "3        69     100            3  \n",
       "4        77     100            1  \n",
       "5        64     100            3  \n",
       "6        94     100            1  \n",
       "7        77     100            4  "
      ]
     },
     "execution_count": 18,
     "metadata": {},
     "output_type": "execute_result"
    }
   ],
   "source": [
    "book.head(8)"
   ]
  },
  {
   "cell_type": "code",
   "execution_count": 19,
   "metadata": {},
   "outputs": [],
   "source": [
    "conn.close()"
   ]
  },
  {
   "attachments": {},
   "cell_type": "markdown",
   "metadata": {},
   "source": [
    "#### Export **book**, **author**, **bookauthor**, and **category** to our new SQLlite Store Dataset"
   ]
  },
  {
   "cell_type": "code",
   "execution_count": 5,
   "metadata": {},
   "outputs": [],
   "source": [
    "conn2 = conn = sq.connect(\"bookstore.db\")"
   ]
  },
  {
   "cell_type": "code",
   "execution_count": 21,
   "metadata": {},
   "outputs": [
    {
     "data": {
      "text/plain": [
       "109"
      ]
     },
     "execution_count": 21,
     "metadata": {},
     "output_type": "execute_result"
    }
   ],
   "source": [
    "book.to_sql(name='book', con=conn2, if_exists='append', index=False)"
   ]
  },
  {
   "cell_type": "code",
   "execution_count": 22,
   "metadata": {},
   "outputs": [
    {
     "data": {
      "text/plain": [
       "102"
      ]
     },
     "execution_count": 22,
     "metadata": {},
     "output_type": "execute_result"
    }
   ],
   "source": [
    "author.to_sql(name='author', con=conn2, if_exists='append', index=False)"
   ]
  },
  {
   "cell_type": "code",
   "execution_count": 23,
   "metadata": {},
   "outputs": [
    {
     "data": {
      "text/plain": [
       "141"
      ]
     },
     "execution_count": 23,
     "metadata": {},
     "output_type": "execute_result"
    }
   ],
   "source": [
    "bookauthor.to_sql(name='bookauthor', con=conn2, if_exists='append', index=False)"
   ]
  },
  {
   "cell_type": "code",
   "execution_count": 24,
   "metadata": {},
   "outputs": [
    {
     "data": {
      "text/plain": [
       "10"
      ]
     },
     "execution_count": 24,
     "metadata": {},
     "output_type": "execute_result"
    }
   ],
   "source": [
    "category.to_sql(name='category', con=conn2, if_exists='append', index=False)"
   ]
  },
  {
   "cell_type": "code",
   "execution_count": 6,
   "metadata": {},
   "outputs": [],
   "source": [
    "conn2.close()"
   ]
  }
 ],
 "metadata": {
  "kernelspec": {
   "display_name": ".venv",
   "language": "python",
   "name": "python3"
  },
  "language_info": {
   "codemirror_mode": {
    "name": "ipython",
    "version": 3
   },
   "file_extension": ".py",
   "mimetype": "text/x-python",
   "name": "python",
   "nbconvert_exporter": "python",
   "pygments_lexer": "ipython3",
   "version": "3.9.16"
  },
  "orig_nbformat": 4
 },
 "nbformat": 4,
 "nbformat_minor": 2
}
